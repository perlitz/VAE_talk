{
  "nbformat": 4,
  "nbformat_minor": 0,
  "metadata": {
    "colab": {
      "name": "MNIST_classifier",
      "version": "0.3.2",
      "provenance": [],
      "collapsed_sections": [],
      "include_colab_link": true
    },
    "kernelspec": {
      "name": "python3",
      "display_name": "Python 3"
    }
  },
  "cells": [
    {
      "cell_type": "markdown",
      "metadata": {
        "id": "view-in-github",
        "colab_type": "text"
      },
      "source": [
        "<a href=\"https://colab.research.google.com/github/perlitz/VAE_talk/blob/master/MNIST_classifier.ipynb\" target=\"_parent\"><img src=\"https://colab.research.google.com/assets/colab-badge.svg\" alt=\"Open In Colab\"/></a>"
      ]
    },
    {
      "cell_type": "markdown",
      "metadata": {
        "id": "lnKICHktyh9j",
        "colab_type": "text"
      },
      "source": [
        "## Imports"
      ]
    },
    {
      "cell_type": "code",
      "metadata": {
        "id": "USvnjgnAYl50",
        "colab_type": "code",
        "colab": {}
      },
      "source": [
        "# !pip install ipdb"
      ],
      "execution_count": 0,
      "outputs": []
    },
    {
      "cell_type": "code",
      "metadata": {
        "id": "wHAR5TW6xfZi",
        "colab_type": "code",
        "colab": {}
      },
      "source": [
        "import torch\n",
        "import torch.nn as nn\n",
        "import torchvision\n",
        "import numpy as np\n",
        "import matplotlib.pyplot as plt\n",
        "import ipdb\n",
        "import PIL\n",
        "import torch.nn.functional as F\n",
        "\n",
        "plt.ion()   # interactive mode\n",
        "\n",
        "set_seed = 1\n",
        "torch.manual_seed(set_seed);"
      ],
      "execution_count": 0,
      "outputs": []
    },
    {
      "cell_type": "code",
      "metadata": {
        "id": "daNlCm0l1Ty2",
        "colab_type": "code",
        "colab": {}
      },
      "source": [
        "batch_size_train = 64\n",
        "batch_size_test  = 1000\n",
        "\n",
        "train_loader = torch.utils.data.DataLoader(\n",
        "  torchvision.datasets.MNIST('/files/', train=True, download=True,\n",
        "                             transform=torchvision.transforms.Compose([\n",
        "                               torchvision.transforms.ToTensor(),\n",
        "                               torchvision.transforms.Normalize(\n",
        "                                 (0.1307,), (0.3081,))\n",
        "                             ])),\n",
        "  batch_size=batch_size_train, shuffle=True)\n",
        "\n",
        "test_loader = torch.utils.data.DataLoader(\n",
        "  torchvision.datasets.MNIST('/files/', train=False, download=True,\n",
        "                             transform=torchvision.transforms.Compose([\n",
        "                               torchvision.transforms.ToTensor(),\n",
        "                               torchvision.transforms.Normalize(\n",
        "                                 (0.1307,), (0.3081,))\n",
        "                             ])),\n",
        "  batch_size=batch_size_test, shuffle=False)"
      ],
      "execution_count": 0,
      "outputs": []
    },
    {
      "cell_type": "code",
      "metadata": {
        "id": "hlwY2OGdfJYE",
        "colab_type": "code",
        "colab": {}
      },
      "source": [
        "class Net(nn.Module):\n",
        "  \n",
        "  def __init__(self):\n",
        "    \"\"\"This is where I will define the layers I use\"\"\"\n",
        "    super(Net, self).__init__()\n",
        "    \n",
        "    self.conv1 = nn.Conv2d(in_channels=1 , out_channels=10, kernel_size=5)\n",
        "    self.conv2 = nn.Conv2d(in_channels=10, out_channels=20, kernel_size=5)\n",
        "    self.conv2_drop = nn.Dropout2d()\n",
        "\n",
        "    self.fc1 = nn.Linear(320, 50)\n",
        "    self.fc2 = nn.Linear(50 , 10)\n",
        "\n",
        "\n",
        "  def forward(self, x):\n",
        "    \"\"\"This is where the forward pass is defined\"\"\"\n",
        "    # ipdb.set_trace()\n",
        "\n",
        "    x = self.conv1(x)\n",
        "    x = F.max_pool2d(x, 2)\n",
        "    x = F.relu6(x)\n",
        "\n",
        "    x = self.conv2(x)\n",
        "    x = self.conv2_drop(x)\n",
        "    x = F.max_pool2d(x, 2)\n",
        "    x = F.relu6(x)\n",
        "\n",
        "    x = x.view(-1, 320)\n",
        "\n",
        "    x = self.fc1(x)\n",
        "    x = F.dropout(x, training=self.training)\n",
        "    \n",
        "    x = self.fc2(x)\n",
        "    \n",
        "    return F.log_softmax(x)"
      ],
      "execution_count": 0,
      "outputs": []
    },
    {
      "cell_type": "code",
      "metadata": {
        "id": "H3uzQXgcBHTP",
        "colab_type": "code",
        "colab": {}
      },
      "source": [
        "net = Net()\n",
        "optimizer = torch.optim.SGD(net.parameters(),lr=0.01,momentum=0.5)\n",
        "\n",
        "train_losses = []\n",
        "train_counter = []\n",
        "test_losses = []\n",
        "test_counter = [i*len(train_loader.dataset) for i in range(n_epochs + 1)]\n",
        "\n",
        "def train(epoch):\n",
        "\n",
        "  net.train() # put the network in to training mode  \n",
        "\n",
        "\n",
        "  for batch_idx , (data, label) in enumerate(train_loader): # loop over examples\n",
        "    optimizer.zero_grad() # nullify the gradients\n",
        "    # run data trough the net\n",
        "    predicted_label = net.forward(data)\n",
        "    # evaluate the loss\n",
        "    loss = F.nll_loss(predicted_label, label)\n",
        "    # backpropagate\n",
        "    loss.backward()\n",
        "    # fix weights using the optimizer\n",
        "    optimizer.step()\n",
        "\n",
        "    if batch_idx % log_interval == 0:\n",
        "        print('Train Epoch: {} [{}/{} ({:.0f}%)]\\tLoss: {:.6f}'.format(\n",
        "         epoch, batch_idx * len(data), len(train_loader.dataset),\n",
        "          100. * batch_idx / len(train_loader), loss.item()))\n",
        "        train_losses.append(loss.item())\n",
        "        train_counter.append(\n",
        "          (batch_idx*64) + ((epoch-1)*len(train_loader.dataset)))\n",
        "        torch.save(net.state_dict(), 'model.pth')\n",
        "        torch.save(optimizer.state_dict(), 'optimizer.pth')\n",
        "\n",
        "def test():\n",
        "  net.eval()\n",
        "  test_loss = 0\n",
        "  correct = 0\n",
        "  with torch.no_grad():\n",
        "    for data, target in test_loader:\n",
        "      output = net(data)\n",
        "      test_loss += F.nll_loss(output, target, size_average=False).item()\n",
        "      pred = output.data.max(1, keepdim=True)[1]\n",
        "      correct += pred.eq(target.data.view_as(pred)).sum()\n",
        "  test_loss /= len(test_loader.dataset)\n",
        "  test_losses.append(test_loss)\n",
        "  print('\\nTest set: Avg. loss: {:.4f}, Accuracy: {}/{} ({:.0f}%)\\n'.format(\n",
        "    test_loss, correct, len(test_loader.dataset),\n",
        "    100. * correct / len(test_loader.dataset)))"
      ],
      "execution_count": 0,
      "outputs": []
    },
    {
      "cell_type": "code",
      "metadata": {
        "id": "Uy9jr_y9fSKE",
        "colab_type": "code",
        "colab": {
          "base_uri": "https://localhost:8080/",
          "height": 849
        },
        "outputId": "fb5090b9-b9d8-4df8-f5ae-cc7d579e8e48"
      },
      "source": [
        "n_epochs = 3\n",
        "log_interval = 100\n",
        "\n",
        "test()\n",
        "for epoch in range(1, n_epochs + 1):\n",
        "  train(epoch)\n",
        "  test()"
      ],
      "execution_count": 54,
      "outputs": [
        {
          "output_type": "stream",
          "text": [
            "/usr/local/lib/python3.6/dist-packages/ipykernel_launcher.py:35: UserWarning: Implicit dimension choice for log_softmax has been deprecated. Change the call to include dim=X as an argument.\n",
            "/usr/local/lib/python3.6/dist-packages/torch/nn/_reduction.py:46: UserWarning: size_average and reduce args will be deprecated, please use reduction='sum' instead.\n",
            "  warnings.warn(warning.format(ret))\n"
          ],
          "name": "stderr"
        },
        {
          "output_type": "stream",
          "text": [
            "\n",
            "Test set: Avg. loss: 2.3481, Accuracy: 812/10000 (8%)\n",
            "\n",
            "Train Epoch: 1 [0/60000 (0%)]\tLoss: 2.342871\n",
            "Train Epoch: 1 [6400/60000 (11%)]\tLoss: 1.188703\n",
            "Train Epoch: 1 [12800/60000 (21%)]\tLoss: 0.738252\n",
            "Train Epoch: 1 [19200/60000 (32%)]\tLoss: 0.821729\n",
            "Train Epoch: 1 [25600/60000 (43%)]\tLoss: 0.595827\n",
            "Train Epoch: 1 [32000/60000 (53%)]\tLoss: 0.370843\n",
            "Train Epoch: 1 [38400/60000 (64%)]\tLoss: 0.425246\n",
            "Train Epoch: 1 [44800/60000 (75%)]\tLoss: 0.332927\n",
            "Train Epoch: 1 [51200/60000 (85%)]\tLoss: 0.402327\n",
            "Train Epoch: 1 [57600/60000 (96%)]\tLoss: 0.537472\n",
            "\n",
            "Test set: Avg. loss: 0.1645, Accuracy: 9480/10000 (94%)\n",
            "\n",
            "Train Epoch: 2 [0/60000 (0%)]\tLoss: 0.454784\n",
            "Train Epoch: 2 [6400/60000 (11%)]\tLoss: 0.413245\n",
            "Train Epoch: 2 [12800/60000 (21%)]\tLoss: 0.294795\n",
            "Train Epoch: 2 [19200/60000 (32%)]\tLoss: 0.208041\n",
            "Train Epoch: 2 [25600/60000 (43%)]\tLoss: 0.364359\n",
            "Train Epoch: 2 [32000/60000 (53%)]\tLoss: 0.261416\n",
            "Train Epoch: 2 [38400/60000 (64%)]\tLoss: 0.566284\n",
            "Train Epoch: 2 [44800/60000 (75%)]\tLoss: 0.272503\n",
            "Train Epoch: 2 [51200/60000 (85%)]\tLoss: 0.251425\n",
            "Train Epoch: 2 [57600/60000 (96%)]\tLoss: 0.264818\n",
            "\n",
            "Test set: Avg. loss: 0.1072, Accuracy: 9672/10000 (96%)\n",
            "\n",
            "Train Epoch: 3 [0/60000 (0%)]\tLoss: 0.114933\n",
            "Train Epoch: 3 [6400/60000 (11%)]\tLoss: 0.134939\n",
            "Train Epoch: 3 [12800/60000 (21%)]\tLoss: 0.123384\n",
            "Train Epoch: 3 [19200/60000 (32%)]\tLoss: 0.237102\n",
            "Train Epoch: 3 [25600/60000 (43%)]\tLoss: 0.276018\n",
            "Train Epoch: 3 [32000/60000 (53%)]\tLoss: 0.406334\n",
            "Train Epoch: 3 [38400/60000 (64%)]\tLoss: 0.224822\n",
            "Train Epoch: 3 [44800/60000 (75%)]\tLoss: 0.132223\n",
            "Train Epoch: 3 [51200/60000 (85%)]\tLoss: 0.182793\n",
            "Train Epoch: 3 [57600/60000 (96%)]\tLoss: 0.117600\n",
            "\n",
            "Test set: Avg. loss: 0.0883, Accuracy: 9721/10000 (97%)\n",
            "\n"
          ],
          "name": "stdout"
        }
      ]
    },
    {
      "cell_type": "code",
      "metadata": {
        "id": "9A9Y3KI02a9u",
        "colab_type": "code",
        "outputId": "81c90bb6-5bad-46d5-a2fa-19d7b5dfdc42",
        "colab": {
          "base_uri": "https://localhost:8080/",
          "height": 568
        }
      },
      "source": [
        "fig = plt.figure()\n",
        "plt.plot(train_counter, train_losses, color='blue')\n",
        "plt.scatter(test_counter, test_losses, color='red')\n",
        "plt.legend(['Train Loss', 'Test Loss'], loc='upper right')\n",
        "plt.xlabel('number of training examples seen')\n",
        "plt.ylabel('negative log likelihood loss')\n",
        "fig"
      ],
      "execution_count": 55,
      "outputs": [
        {
          "output_type": "execute_result",
          "data": {
            "image/png": "[encoded data removed]",
            "text/plain": [
              "<Figure size 432x288 with 1 Axes>"
            ]
          },
          "metadata": {
            "tags": []
          },
          "execution_count": 55
        },
        {
          "output_type": "display_data",
          "data": {
            "image/png": "[encoded data removed]",
            "text/plain": [
              "<Figure size 432x288 with 1 Axes>"
            ]
          },
          "metadata": {
            "tags": []
          }
        }
      ]
    }
  ]
}